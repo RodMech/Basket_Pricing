{
  "nbformat": 4,
  "nbformat_minor": 0,
  "metadata": {
    "colab": {
      "name": "Basket_Pricing.ipynb",
      "provenance": [],
      "collapsed_sections": []
    },
    "kernelspec": {
      "name": "python3",
      "display_name": "Python 3"
    },
    "language_info": {
      "name": "python"
    }
  },
  "cells": [
    {
      "cell_type": "code",
      "execution_count": null,
      "metadata": {
        "id": "LCHWqMbXyg59"
      },
      "outputs": [],
      "source": [
        "#libraries\n",
        "#----------------------------------------------------------------------------\n",
        "from scipy import stats\n",
        "import matplotlib.pyplot as plt\n",
        "import numpy as np\n",
        "import seaborn as sns\n",
        "import pandas as pd\n",
        "import os\n",
        "import time\n",
        "import tensorflow as tf\n",
        "from tensorflow.keras.layers import Dense, Dropout, BatchNormalization, Input\n",
        "from tensorflow.keras.models import Model\n",
        "#----------------------------------------------------------------------------"
      ]
    },
    {
      "cell_type": "markdown",
      "source": [
        "\n",
        "# Build and train a neural network model for pricing European Basket options under Black-Scholes assumptions.\n",
        "\n",
        "In order to train a neural network we will need to generate data.\n",
        "\n",
        "1.   Data Generation\n",
        "2.   Building Model\n",
        "\n",
        "**Methodology**\n",
        "\n",
        "The first step is to create a set of combinations of model, option and market parameters (strike, maturities, volatility, riskfree rate, ...)\n",
        "\n",
        "For the multi-asset case (basket option), the Scipy implementation of the numerically stable algorithm of Davies &\n",
        "Higham is used to generate random correlation matrices of\n",
        "underlyings.\n"
      ],
      "metadata": {
        "id": "gG-FVJxgzJDS"
      }
    },
    {
      "cell_type": "code",
      "source": [
        "#Global Variables :\n",
        "\n",
        "#number of epochs to train the model on\n",
        "EPOCHS = 50\n",
        "\n",
        "BASE_PRICE   = 100\n",
        "BASE_STRIKE  = 200\n",
        "\n",
        "#random correlation matrices of underlyings assuming we are working with 3 assets\n",
        "CORR = stats.random_correlation.rvs((1, .8, 1.2))"
      ],
      "metadata": {
        "id": "WmGsev3a1azr"
      },
      "execution_count": null,
      "outputs": []
    },
    {
      "cell_type": "code",
      "source": [
        "class BasketOption:\n",
        "  \"\"\"\n",
        "  Basket class\n",
        "  \"\"\"\n",
        "  def __init__(self, weights, prices, volatility, corr, strike, maturity, rate):\n",
        "    \"\"\"\n",
        "    args:\n",
        "    - matuity : in years\n",
        "    \"\"\"\n",
        "    self.weights = weights\n",
        "    self.vol = volatility\n",
        "    self.strike = strike\n",
        "    self.mat = maturity\n",
        "    self.rate = rate\n",
        "    self.corr = corr\n",
        "    self.prices = prices\n",
        "\n",
        "\n",
        "  def get_mc(self, M=10000):\n",
        "    \n",
        "    '''\n",
        "    reference : https://github.com/shrentseng/Numerical-methods-for-option-pricing/blob/main/Monte%20Carlo%20simulation%20option%20pricing.ipynb\n",
        "    runs M paths of MC\n",
        "    \n",
        "    '''\n",
        "    #B_Ts = np.random.normal(0, self.mat, M)\n",
        "    B_Ts = stats.multivariate_normal(np.zeros(len(self.weights)), cov=self.corr).rvs(size=M)\n",
        "    S_Ts = self.prices * np.exp((self.rate - 0.5 * self.vol ** 2) * self.mat + self.vol * B_Ts)\n",
        "    if len(self.weights) > 1:\n",
        "      payoffs = (np.sum(self.weights * S_Ts, axis=1) - self.strike).clip(0)\n",
        "    else:    \n",
        "      payoffs = np.maximum(S_Ts - self.strike, np.zeros(M)) \n",
        "    self.mc_price = np.mean(payoffs) \n",
        "    return np.exp(-1 * self.rate * self.mat) * self.mc_price\n",
        "\n",
        "\n",
        "  def get_bs_price(self):\n",
        "        d1 = 1 / (self.vol * (self.mat) ** 0.5) * (np.log(self.prices/self.strike)\\\n",
        "                                            + (self.rate + (0.5 * self.vol ** 2)) * self.mat)\n",
        "        d2 = d1 - self.vol * self.mat ** 0.5\n",
        "        self.bs_price = stats.norm.cdf(d1) * self.prices\\\n",
        "                        - stats.norm.cdf(d2) * self.strike * np.exp(-self.rate * self.mat)\n",
        "        \n",
        "        return self.bs_price"
      ],
      "metadata": {
        "id": "alCZ5fRKzIL5"
      },
      "execution_count": null,
      "outputs": []
    },
    {
      "cell_type": "code",
      "source": [
        "class DataGen:\n",
        "  \"\"\"\n",
        "  Based on the class Basket option\n",
        "  This class will simulate multiple baskets to train our model on\n",
        "  \"\"\"\n",
        "  def __init__(self, n_assets, n_samples):\n",
        "    \"\"\"\n",
        "    n_assets: number of assets contained in a portfolio ( basket )\n",
        "    n_samples : number of baskets we are simulating\n",
        "    \"\"\"\n",
        "    self.n_assets = n_assets\n",
        "    self.n_samples = n_samples\n",
        "\n",
        "    if (self.n_samples <= 0):\n",
        "      raise ValueError(\"n_samples needs to be positive\")\n",
        "\n",
        "    if (self.n_assets <= 0):\n",
        "      raise ValueError(\"n_assets needs to be positive\")  \n",
        "\n",
        "\n",
        "  def generate(self, corr=CORR, strike_price=BASE_STRIKE, base_price=BASE_PRICE, method='bs'):\n",
        "    \"\"\"\n",
        "    - method : refers to the solver that will compute the labels\n",
        "    it can be \"bs\" : for Black-Scholes or \"mc\" : Monte Carlo\n",
        "\n",
        "    \"\"\"\n",
        "\n",
        "    mats = np.random.uniform(0.2, 1.1, size=self.n_samples)\n",
        "    vols = np.random.uniform(0.01, 1, size=self.n_samples)\n",
        "    rates = np.random.uniform(0.02, 0.1, size=self.n_samples)\n",
        "    \n",
        "    #add noise to strikes and prices\n",
        "    strikes = np.random.randn(self.n_samples) + strike_price\n",
        "    prices  = np.random.randn(self.n_samples) + base_price\n",
        "\n",
        "    if self.n_assets > 1:\n",
        "      weights = np.random.rand(self.n_samples * self.n_assets).reshape((self.n_samples, self.n_assets))\n",
        "      weights /= np.sum(weights, axis=1)[:, np.newaxis]\n",
        "    else:\n",
        "      weights = np.ones((self.n_samples, self.n_assets))\n",
        "\n",
        "    labels = []\n",
        "    for i in range(self.n_samples):\n",
        "      basket = BasketOption(weights[i], prices[i],\n",
        "                                  vols[i], corr, strikes[i], \n",
        "                                  mats[i], rates[i])\n",
        "      if method == \"bs\":\n",
        "        labels.append(basket.get_bs_price())\n",
        "      else: \n",
        "        labels.append(basket.get_mc())\n",
        "\n",
        "    print(len(labels))\n",
        "    self.data = pd.DataFrame({\n",
        "                         'S/K' : prices / strikes,\n",
        "                         'Maturity': mats,\n",
        "                         'Volatility': vols,\n",
        "                         'Rate': rates,\n",
        "                         'Labels': labels,\n",
        "                         'Prices': prices,\n",
        "                         'Strikes': strikes})\n",
        "    \n",
        "    for i in range(self.n_assets):\n",
        "      self.data['Weight_{}'.format(i)] = weights[:,i]\n",
        "\n",
        "    #save the dataframe to csv format\n",
        "    return self.data"
      ],
      "metadata": {
        "id": "WYqeMov_z4Gt"
      },
      "execution_count": null,
      "outputs": []
    },
    {
      "cell_type": "markdown",
      "source": [
        "Our Goal is to Build and train a neural network model for pricing European Basket options under Black-Scholes assumptions. So our ground truth will be generated using  Black-Scholes function."
      ],
      "metadata": {
        "id": "MWlUFyR73atR"
      }
    },
    {
      "cell_type": "code",
      "source": [
        "def simulate(n_assets=3, n_samples=10000, method=\"bs\"):\n",
        "  \"\"\"\n",
        "  Generates data based on the Datagen class\n",
        "  args:\n",
        "  - n_assets : number of assets contained in a Basket\n",
        "  - n_samples : number of training examples\n",
        "  - method : method used to compute the price it can be \"mc\" or \"bs\"\n",
        "  \"\"\" \n",
        "  simulator = DataGen(3, n_samples=n_samples)\n",
        "  simulated_prices = simulator.generate(method=method)\n",
        "  return simulated_prices"
      ],
      "metadata": {
        "id": "HVikyIUO0Dau"
      },
      "execution_count": null,
      "outputs": []
    },
    {
      "cell_type": "code",
      "source": [
        "%time \n",
        "\n",
        "data = simulate()\n",
        "data"
      ],
      "metadata": {
        "colab": {
          "base_uri": "https://localhost:8080/",
          "height": 478
        },
        "id": "FnwmUvJM1Dk5",
        "outputId": "194d9d55-259d-4d94-e094-c2ed9881e088"
      },
      "execution_count": null,
      "outputs": [
        {
          "output_type": "stream",
          "name": "stdout",
          "text": [
            "CPU times: user 3 µs, sys: 0 ns, total: 3 µs\n",
            "Wall time: 6.91 µs\n",
            "10000\n"
          ]
        },
        {
          "output_type": "execute_result",
          "data": {
            "text/html": [
              "\n",
              "  <div id=\"df-e7350f77-6c4f-45be-8d89-27724ce8eadc\">\n",
              "    <div class=\"colab-df-container\">\n",
              "      <div>\n",
              "<style scoped>\n",
              "    .dataframe tbody tr th:only-of-type {\n",
              "        vertical-align: middle;\n",
              "    }\n",
              "\n",
              "    .dataframe tbody tr th {\n",
              "        vertical-align: top;\n",
              "    }\n",
              "\n",
              "    .dataframe thead th {\n",
              "        text-align: right;\n",
              "    }\n",
              "</style>\n",
              "<table border=\"1\" class=\"dataframe\">\n",
              "  <thead>\n",
              "    <tr style=\"text-align: right;\">\n",
              "      <th></th>\n",
              "      <th>S/K</th>\n",
              "      <th>Maturity</th>\n",
              "      <th>Volatility</th>\n",
              "      <th>Rate</th>\n",
              "      <th>Labels</th>\n",
              "      <th>Prices</th>\n",
              "      <th>Strikes</th>\n",
              "      <th>Weight_0</th>\n",
              "      <th>Weight_1</th>\n",
              "      <th>Weight_2</th>\n",
              "    </tr>\n",
              "  </thead>\n",
              "  <tbody>\n",
              "    <tr>\n",
              "      <th>0</th>\n",
              "      <td>0.504815</td>\n",
              "      <td>0.931078</td>\n",
              "      <td>0.502187</td>\n",
              "      <td>0.041325</td>\n",
              "      <td>2.791261e+00</td>\n",
              "      <td>99.994036</td>\n",
              "      <td>198.080492</td>\n",
              "      <td>0.418889</td>\n",
              "      <td>0.577116</td>\n",
              "      <td>0.003996</td>\n",
              "    </tr>\n",
              "    <tr>\n",
              "      <th>1</th>\n",
              "      <td>0.492806</td>\n",
              "      <td>0.654362</td>\n",
              "      <td>0.152718</td>\n",
              "      <td>0.061491</td>\n",
              "      <td>9.735463e-08</td>\n",
              "      <td>98.766247</td>\n",
              "      <td>200.416048</td>\n",
              "      <td>0.137916</td>\n",
              "      <td>0.440935</td>\n",
              "      <td>0.421149</td>\n",
              "    </tr>\n",
              "    <tr>\n",
              "      <th>2</th>\n",
              "      <td>0.500325</td>\n",
              "      <td>0.726623</td>\n",
              "      <td>0.351636</td>\n",
              "      <td>0.030589</td>\n",
              "      <td>1.830691e-01</td>\n",
              "      <td>100.030663</td>\n",
              "      <td>199.931392</td>\n",
              "      <td>0.336292</td>\n",
              "      <td>0.548282</td>\n",
              "      <td>0.115426</td>\n",
              "    </tr>\n",
              "    <tr>\n",
              "      <th>3</th>\n",
              "      <td>0.492973</td>\n",
              "      <td>0.698095</td>\n",
              "      <td>0.524012</td>\n",
              "      <td>0.034865</td>\n",
              "      <td>1.528300e+00</td>\n",
              "      <td>98.892468</td>\n",
              "      <td>200.604222</td>\n",
              "      <td>0.433961</td>\n",
              "      <td>0.245870</td>\n",
              "      <td>0.320169</td>\n",
              "    </tr>\n",
              "    <tr>\n",
              "      <th>4</th>\n",
              "      <td>0.511484</td>\n",
              "      <td>0.932782</td>\n",
              "      <td>0.960820</td>\n",
              "      <td>0.092571</td>\n",
              "      <td>1.916346e+01</td>\n",
              "      <td>101.708790</td>\n",
              "      <td>198.850381</td>\n",
              "      <td>0.220553</td>\n",
              "      <td>0.289421</td>\n",
              "      <td>0.490026</td>\n",
              "    </tr>\n",
              "    <tr>\n",
              "      <th>...</th>\n",
              "      <td>...</td>\n",
              "      <td>...</td>\n",
              "      <td>...</td>\n",
              "      <td>...</td>\n",
              "      <td>...</td>\n",
              "      <td>...</td>\n",
              "      <td>...</td>\n",
              "      <td>...</td>\n",
              "      <td>...</td>\n",
              "      <td>...</td>\n",
              "    </tr>\n",
              "    <tr>\n",
              "      <th>9995</th>\n",
              "      <td>0.500637</td>\n",
              "      <td>0.489118</td>\n",
              "      <td>0.872160</td>\n",
              "      <td>0.051313</td>\n",
              "      <td>5.743376e+00</td>\n",
              "      <td>99.982817</td>\n",
              "      <td>199.711032</td>\n",
              "      <td>0.376591</td>\n",
              "      <td>0.434463</td>\n",
              "      <td>0.188946</td>\n",
              "    </tr>\n",
              "    <tr>\n",
              "      <th>9996</th>\n",
              "      <td>0.511087</td>\n",
              "      <td>0.410854</td>\n",
              "      <td>0.178686</td>\n",
              "      <td>0.053454</td>\n",
              "      <td>1.946045e-08</td>\n",
              "      <td>102.446219</td>\n",
              "      <td>200.447665</td>\n",
              "      <td>0.591711</td>\n",
              "      <td>0.288702</td>\n",
              "      <td>0.119588</td>\n",
              "    </tr>\n",
              "    <tr>\n",
              "      <th>9997</th>\n",
              "      <td>0.504587</td>\n",
              "      <td>0.943311</td>\n",
              "      <td>0.284372</td>\n",
              "      <td>0.082734</td>\n",
              "      <td>1.870573e-01</td>\n",
              "      <td>101.406924</td>\n",
              "      <td>200.970340</td>\n",
              "      <td>0.086841</td>\n",
              "      <td>0.358824</td>\n",
              "      <td>0.554335</td>\n",
              "    </tr>\n",
              "    <tr>\n",
              "      <th>9998</th>\n",
              "      <td>0.492117</td>\n",
              "      <td>0.977005</td>\n",
              "      <td>0.356625</td>\n",
              "      <td>0.036569</td>\n",
              "      <td>5.164157e-01</td>\n",
              "      <td>98.344209</td>\n",
              "      <td>199.839194</td>\n",
              "      <td>0.319265</td>\n",
              "      <td>0.326179</td>\n",
              "      <td>0.354555</td>\n",
              "    </tr>\n",
              "    <tr>\n",
              "      <th>9999</th>\n",
              "      <td>0.489849</td>\n",
              "      <td>0.458679</td>\n",
              "      <td>0.662812</td>\n",
              "      <td>0.023207</td>\n",
              "      <td>1.549750e+00</td>\n",
              "      <td>98.328238</td>\n",
              "      <td>200.731917</td>\n",
              "      <td>0.089615</td>\n",
              "      <td>0.420547</td>\n",
              "      <td>0.489838</td>\n",
              "    </tr>\n",
              "  </tbody>\n",
              "</table>\n",
              "<p>10000 rows × 10 columns</p>\n",
              "</div>\n",
              "      <button class=\"colab-df-convert\" onclick=\"convertToInteractive('df-e7350f77-6c4f-45be-8d89-27724ce8eadc')\"\n",
              "              title=\"Convert this dataframe to an interactive table.\"\n",
              "              style=\"display:none;\">\n",
              "        \n",
              "  <svg xmlns=\"http://www.w3.org/2000/svg\" height=\"24px\"viewBox=\"0 0 24 24\"\n",
              "       width=\"24px\">\n",
              "    <path d=\"M0 0h24v24H0V0z\" fill=\"none\"/>\n",
              "    <path d=\"M18.56 5.44l.94 2.06.94-2.06 2.06-.94-2.06-.94-.94-2.06-.94 2.06-2.06.94zm-11 1L8.5 8.5l.94-2.06 2.06-.94-2.06-.94L8.5 2.5l-.94 2.06-2.06.94zm10 10l.94 2.06.94-2.06 2.06-.94-2.06-.94-.94-2.06-.94 2.06-2.06.94z\"/><path d=\"M17.41 7.96l-1.37-1.37c-.4-.4-.92-.59-1.43-.59-.52 0-1.04.2-1.43.59L10.3 9.45l-7.72 7.72c-.78.78-.78 2.05 0 2.83L4 21.41c.39.39.9.59 1.41.59.51 0 1.02-.2 1.41-.59l7.78-7.78 2.81-2.81c.8-.78.8-2.07 0-2.86zM5.41 20L4 18.59l7.72-7.72 1.47 1.35L5.41 20z\"/>\n",
              "  </svg>\n",
              "      </button>\n",
              "      \n",
              "  <style>\n",
              "    .colab-df-container {\n",
              "      display:flex;\n",
              "      flex-wrap:wrap;\n",
              "      gap: 12px;\n",
              "    }\n",
              "\n",
              "    .colab-df-convert {\n",
              "      background-color: #E8F0FE;\n",
              "      border: none;\n",
              "      border-radius: 50%;\n",
              "      cursor: pointer;\n",
              "      display: none;\n",
              "      fill: #1967D2;\n",
              "      height: 32px;\n",
              "      padding: 0 0 0 0;\n",
              "      width: 32px;\n",
              "    }\n",
              "\n",
              "    .colab-df-convert:hover {\n",
              "      background-color: #E2EBFA;\n",
              "      box-shadow: 0px 1px 2px rgba(60, 64, 67, 0.3), 0px 1px 3px 1px rgba(60, 64, 67, 0.15);\n",
              "      fill: #174EA6;\n",
              "    }\n",
              "\n",
              "    [theme=dark] .colab-df-convert {\n",
              "      background-color: #3B4455;\n",
              "      fill: #D2E3FC;\n",
              "    }\n",
              "\n",
              "    [theme=dark] .colab-df-convert:hover {\n",
              "      background-color: #434B5C;\n",
              "      box-shadow: 0px 1px 3px 1px rgba(0, 0, 0, 0.15);\n",
              "      filter: drop-shadow(0px 1px 2px rgba(0, 0, 0, 0.3));\n",
              "      fill: #FFFFFF;\n",
              "    }\n",
              "  </style>\n",
              "\n",
              "      <script>\n",
              "        const buttonEl =\n",
              "          document.querySelector('#df-e7350f77-6c4f-45be-8d89-27724ce8eadc button.colab-df-convert');\n",
              "        buttonEl.style.display =\n",
              "          google.colab.kernel.accessAllowed ? 'block' : 'none';\n",
              "\n",
              "        async function convertToInteractive(key) {\n",
              "          const element = document.querySelector('#df-e7350f77-6c4f-45be-8d89-27724ce8eadc');\n",
              "          const dataTable =\n",
              "            await google.colab.kernel.invokeFunction('convertToInteractive',\n",
              "                                                     [key], {});\n",
              "          if (!dataTable) return;\n",
              "\n",
              "          const docLinkHtml = 'Like what you see? Visit the ' +\n",
              "            '<a target=\"_blank\" href=https://colab.research.google.com/notebooks/data_table.ipynb>data table notebook</a>'\n",
              "            + ' to learn more about interactive tables.';\n",
              "          element.innerHTML = '';\n",
              "          dataTable['output_type'] = 'display_data';\n",
              "          await google.colab.output.renderOutput(dataTable, element);\n",
              "          const docLink = document.createElement('div');\n",
              "          docLink.innerHTML = docLinkHtml;\n",
              "          element.appendChild(docLink);\n",
              "        }\n",
              "      </script>\n",
              "    </div>\n",
              "  </div>\n",
              "  "
            ],
            "text/plain": [
              "           S/K  Maturity  Volatility  ...  Weight_0  Weight_1  Weight_2\n",
              "0     0.504815  0.931078    0.502187  ...  0.418889  0.577116  0.003996\n",
              "1     0.492806  0.654362    0.152718  ...  0.137916  0.440935  0.421149\n",
              "2     0.500325  0.726623    0.351636  ...  0.336292  0.548282  0.115426\n",
              "3     0.492973  0.698095    0.524012  ...  0.433961  0.245870  0.320169\n",
              "4     0.511484  0.932782    0.960820  ...  0.220553  0.289421  0.490026\n",
              "...        ...       ...         ...  ...       ...       ...       ...\n",
              "9995  0.500637  0.489118    0.872160  ...  0.376591  0.434463  0.188946\n",
              "9996  0.511087  0.410854    0.178686  ...  0.591711  0.288702  0.119588\n",
              "9997  0.504587  0.943311    0.284372  ...  0.086841  0.358824  0.554335\n",
              "9998  0.492117  0.977005    0.356625  ...  0.319265  0.326179  0.354555\n",
              "9999  0.489849  0.458679    0.662812  ...  0.089615  0.420547  0.489838\n",
              "\n",
              "[10000 rows x 10 columns]"
            ]
          },
          "metadata": {},
          "execution_count": 17
        }
      ]
    },
    {
      "cell_type": "markdown",
      "source": [
        "# Choosing Model Features \n",
        "\n",
        "Based on this paper : https://canopee-group.com/wp-content/uploads/2020/12/Machine-Learning-methods-Coperneec.pdf\n",
        "\n",
        "The important features to consider for the model construction while dealing with European basket call (BS) \n",
        "are :\n",
        "\n",
        "- Maturity \n",
        "- Risk\n",
        "- the ratio S/k (Moneyness) \n",
        "- Volatility\n",
        "\n",
        "**Methodology**\n",
        "\n",
        "Before building the model we will be splitting our data then :          \n",
        "- Save train and test into csv formats\n",
        "- keep only the selected features\n",
        "\n",
        "**Model Description:**\n",
        "\n",
        "The model is build using the functional API of keras .\n",
        "It is composed of Dense layers, BatchNormalization layer and Dropout layer to prevent overfitting .\n",
        "The last layer is a Dense layer with 1 neuron as we are dealing with a regression problem and an activation function : relu because the Price option needs to be at least 0."
      ],
      "metadata": {
        "id": "xkHDZVz64rdb"
      }
    },
    {
      "cell_type": "code",
      "source": [
        "def split_data(data, split_ratio=0.7):\n",
        "  \"\"\"\n",
        "  splits the data into train and test\n",
        "  \n",
        "  args:\n",
        "  data : pd.Dataframe : represents simulated data\n",
        "  split_ratio: the factor to spli data into train and test\n",
        "\n",
        "  returns:\n",
        "  x_train, y_train, x_test, y_test\n",
        "  \"\"\"\n",
        "  train = data.iloc[:int(split_ratio * len(data)), :]\n",
        "  test  = data.iloc[int(split_ratio * len(data)):, :]\n",
        "  train.to_csv(\"train.csv\", index=False)\n",
        "  test.to_csv(\"test.csv\", index=False)\n",
        "  x_train, y_train = train.iloc[:, 0:4], train.iloc[:, 4]\n",
        "  x_test, y_test = test.iloc[:, 0:4], test.iloc[:, 4]\n",
        "  return x_train, y_train, x_test, y_test\n",
        "  \n",
        "x_train, y_train, x_test, y_test = split_data(data, split_ratio=0.7)\n",
        "\n",
        "def build_model(epochs=EPOCHS):\n",
        "  #build model using functional method\n",
        "  input = Input(shape=(x_train.shape[1],))\n",
        "  x = Dense(32, activation='relu')(input)\n",
        "  x = Dropout(0.2)(x)\n",
        "  x = Dense(64, activation='relu')(x)\n",
        "  x = BatchNormalization()(x)\n",
        "  output = Dense(1, activation='relu')(x)\n",
        "\n",
        "  model = Model(inputs= input, outputs=output)\n",
        "  return model"
      ],
      "metadata": {
        "id": "qAwmvLkU3Mie"
      },
      "execution_count": null,
      "outputs": []
    },
    {
      "cell_type": "code",
      "source": [
        "model = build_model()\n",
        "model.compile(loss='mean_squared_error',\n",
        "              optimizer=\"adam\",\n",
        "              metrics=\"mean_squared_error\")\n",
        "\n",
        "history = model.fit(x_train, y_train, epochs=EPOCHS, validation_data=(x_test, y_test))"
      ],
      "metadata": {
        "colab": {
          "base_uri": "https://localhost:8080/"
        },
        "id": "yY81058G5hgL",
        "outputId": "0e30d9cc-5980-4e61-9669-bfb846f0434c"
      },
      "execution_count": null,
      "outputs": [
        {
          "output_type": "stream",
          "name": "stdout",
          "text": [
            "Epoch 1/50\n",
            "219/219 [==============================] - 1s 3ms/step - loss: 5.9397 - mean_squared_error: 5.9397 - val_loss: 16.9731 - val_mean_squared_error: 16.9731\n",
            "Epoch 2/50\n",
            "219/219 [==============================] - 0s 2ms/step - loss: 1.6805 - mean_squared_error: 1.6805 - val_loss: 6.5570 - val_mean_squared_error: 6.5570\n",
            "Epoch 3/50\n",
            "219/219 [==============================] - 0s 2ms/step - loss: 1.4899 - mean_squared_error: 1.4899 - val_loss: 3.2497 - val_mean_squared_error: 3.2497\n",
            "Epoch 4/50\n",
            "219/219 [==============================] - 0s 2ms/step - loss: 1.3037 - mean_squared_error: 1.3037 - val_loss: 1.4063 - val_mean_squared_error: 1.4063\n",
            "Epoch 5/50\n",
            "219/219 [==============================] - 1s 2ms/step - loss: 1.0707 - mean_squared_error: 1.0707 - val_loss: 1.8084 - val_mean_squared_error: 1.8084\n",
            "Epoch 6/50\n",
            "219/219 [==============================] - 0s 2ms/step - loss: 1.0074 - mean_squared_error: 1.0074 - val_loss: 0.8292 - val_mean_squared_error: 0.8292\n",
            "Epoch 7/50\n",
            "219/219 [==============================] - 0s 2ms/step - loss: 0.9609 - mean_squared_error: 0.9609 - val_loss: 1.3485 - val_mean_squared_error: 1.3485\n",
            "Epoch 8/50\n",
            "219/219 [==============================] - 0s 2ms/step - loss: 0.8103 - mean_squared_error: 0.8103 - val_loss: 1.3765 - val_mean_squared_error: 1.3765\n",
            "Epoch 9/50\n",
            "219/219 [==============================] - 1s 2ms/step - loss: 0.8912 - mean_squared_error: 0.8912 - val_loss: 2.3485 - val_mean_squared_error: 2.3485\n",
            "Epoch 10/50\n",
            "219/219 [==============================] - 0s 2ms/step - loss: 0.8260 - mean_squared_error: 0.8260 - val_loss: 1.7360 - val_mean_squared_error: 1.7360\n",
            "Epoch 11/50\n",
            "219/219 [==============================] - 0s 2ms/step - loss: 0.8409 - mean_squared_error: 0.8409 - val_loss: 4.7419 - val_mean_squared_error: 4.7419\n",
            "Epoch 12/50\n",
            "219/219 [==============================] - 1s 2ms/step - loss: 0.7821 - mean_squared_error: 0.7821 - val_loss: 1.1271 - val_mean_squared_error: 1.1271\n",
            "Epoch 13/50\n",
            "219/219 [==============================] - 1s 2ms/step - loss: 0.7777 - mean_squared_error: 0.7777 - val_loss: 3.0078 - val_mean_squared_error: 3.0078\n",
            "Epoch 14/50\n",
            "219/219 [==============================] - 0s 2ms/step - loss: 0.6839 - mean_squared_error: 0.6839 - val_loss: 1.3378 - val_mean_squared_error: 1.3378\n",
            "Epoch 15/50\n",
            "219/219 [==============================] - 1s 2ms/step - loss: 0.7435 - mean_squared_error: 0.7435 - val_loss: 2.8678 - val_mean_squared_error: 2.8678\n",
            "Epoch 16/50\n",
            "219/219 [==============================] - 0s 2ms/step - loss: 0.8234 - mean_squared_error: 0.8234 - val_loss: 2.8502 - val_mean_squared_error: 2.8502\n",
            "Epoch 17/50\n",
            "219/219 [==============================] - 0s 2ms/step - loss: 0.5729 - mean_squared_error: 0.5729 - val_loss: 4.0030 - val_mean_squared_error: 4.0030\n",
            "Epoch 18/50\n",
            "219/219 [==============================] - 1s 2ms/step - loss: 0.6265 - mean_squared_error: 0.6265 - val_loss: 3.1391 - val_mean_squared_error: 3.1391\n",
            "Epoch 19/50\n",
            "219/219 [==============================] - 0s 2ms/step - loss: 0.7577 - mean_squared_error: 0.7577 - val_loss: 2.2702 - val_mean_squared_error: 2.2702\n",
            "Epoch 20/50\n",
            "219/219 [==============================] - 1s 2ms/step - loss: 0.6967 - mean_squared_error: 0.6967 - val_loss: 4.7091 - val_mean_squared_error: 4.7091\n",
            "Epoch 21/50\n",
            "219/219 [==============================] - 1s 2ms/step - loss: 0.6225 - mean_squared_error: 0.6225 - val_loss: 3.9476 - val_mean_squared_error: 3.9476\n",
            "Epoch 22/50\n",
            "219/219 [==============================] - 0s 2ms/step - loss: 0.6674 - mean_squared_error: 0.6674 - val_loss: 1.8247 - val_mean_squared_error: 1.8247\n",
            "Epoch 23/50\n",
            "219/219 [==============================] - 0s 2ms/step - loss: 0.7152 - mean_squared_error: 0.7152 - val_loss: 3.3595 - val_mean_squared_error: 3.3595\n",
            "Epoch 24/50\n",
            "219/219 [==============================] - 0s 2ms/step - loss: 0.6439 - mean_squared_error: 0.6439 - val_loss: 4.4906 - val_mean_squared_error: 4.4906\n",
            "Epoch 25/50\n",
            "219/219 [==============================] - 1s 2ms/step - loss: 0.6669 - mean_squared_error: 0.6669 - val_loss: 3.4464 - val_mean_squared_error: 3.4464\n",
            "Epoch 26/50\n",
            "219/219 [==============================] - 1s 2ms/step - loss: 0.6605 - mean_squared_error: 0.6605 - val_loss: 3.4634 - val_mean_squared_error: 3.4634\n",
            "Epoch 27/50\n",
            "219/219 [==============================] - 0s 2ms/step - loss: 0.6339 - mean_squared_error: 0.6339 - val_loss: 1.7085 - val_mean_squared_error: 1.7085\n",
            "Epoch 28/50\n",
            "219/219 [==============================] - 0s 2ms/step - loss: 0.5211 - mean_squared_error: 0.5211 - val_loss: 2.4298 - val_mean_squared_error: 2.4298\n",
            "Epoch 29/50\n",
            "219/219 [==============================] - 1s 2ms/step - loss: 0.5536 - mean_squared_error: 0.5536 - val_loss: 2.2135 - val_mean_squared_error: 2.2135\n",
            "Epoch 30/50\n",
            "219/219 [==============================] - 0s 2ms/step - loss: 0.5931 - mean_squared_error: 0.5931 - val_loss: 2.7732 - val_mean_squared_error: 2.7732\n",
            "Epoch 31/50\n",
            "219/219 [==============================] - 0s 2ms/step - loss: 0.5953 - mean_squared_error: 0.5953 - val_loss: 4.2230 - val_mean_squared_error: 4.2230\n",
            "Epoch 32/50\n",
            "219/219 [==============================] - 0s 2ms/step - loss: 0.6613 - mean_squared_error: 0.6613 - val_loss: 3.6954 - val_mean_squared_error: 3.6954\n",
            "Epoch 33/50\n",
            "219/219 [==============================] - 1s 2ms/step - loss: 0.5856 - mean_squared_error: 0.5856 - val_loss: 3.5670 - val_mean_squared_error: 3.5670\n",
            "Epoch 34/50\n",
            "219/219 [==============================] - 1s 2ms/step - loss: 0.5468 - mean_squared_error: 0.5468 - val_loss: 4.1896 - val_mean_squared_error: 4.1896\n",
            "Epoch 35/50\n",
            "219/219 [==============================] - 1s 2ms/step - loss: 0.6181 - mean_squared_error: 0.6181 - val_loss: 4.0722 - val_mean_squared_error: 4.0722\n",
            "Epoch 36/50\n",
            "219/219 [==============================] - 0s 2ms/step - loss: 0.6550 - mean_squared_error: 0.6550 - val_loss: 3.6869 - val_mean_squared_error: 3.6869\n",
            "Epoch 37/50\n",
            "219/219 [==============================] - 1s 2ms/step - loss: 0.5355 - mean_squared_error: 0.5355 - val_loss: 2.4681 - val_mean_squared_error: 2.4681\n",
            "Epoch 38/50\n",
            "219/219 [==============================] - 1s 2ms/step - loss: 0.6071 - mean_squared_error: 0.6071 - val_loss: 2.5223 - val_mean_squared_error: 2.5223\n",
            "Epoch 39/50\n",
            "219/219 [==============================] - 0s 2ms/step - loss: 0.5724 - mean_squared_error: 0.5724 - val_loss: 4.3005 - val_mean_squared_error: 4.3005\n",
            "Epoch 40/50\n",
            "219/219 [==============================] - 0s 2ms/step - loss: 0.5695 - mean_squared_error: 0.5695 - val_loss: 3.1711 - val_mean_squared_error: 3.1711\n",
            "Epoch 41/50\n",
            "219/219 [==============================] - 0s 2ms/step - loss: 0.4887 - mean_squared_error: 0.4887 - val_loss: 1.8186 - val_mean_squared_error: 1.8186\n",
            "Epoch 42/50\n",
            "219/219 [==============================] - 0s 2ms/step - loss: 0.5309 - mean_squared_error: 0.5309 - val_loss: 1.7562 - val_mean_squared_error: 1.7562\n",
            "Epoch 43/50\n",
            "219/219 [==============================] - 0s 2ms/step - loss: 0.5798 - mean_squared_error: 0.5798 - val_loss: 3.2320 - val_mean_squared_error: 3.2320\n",
            "Epoch 44/50\n",
            "219/219 [==============================] - 0s 2ms/step - loss: 0.5411 - mean_squared_error: 0.5411 - val_loss: 4.2769 - val_mean_squared_error: 4.2769\n",
            "Epoch 45/50\n",
            "219/219 [==============================] - 1s 2ms/step - loss: 0.5173 - mean_squared_error: 0.5173 - val_loss: 3.0241 - val_mean_squared_error: 3.0241\n",
            "Epoch 46/50\n",
            "219/219 [==============================] - 0s 2ms/step - loss: 0.5818 - mean_squared_error: 0.5818 - val_loss: 3.2107 - val_mean_squared_error: 3.2107\n",
            "Epoch 47/50\n",
            "219/219 [==============================] - 1s 2ms/step - loss: 0.5569 - mean_squared_error: 0.5569 - val_loss: 2.6734 - val_mean_squared_error: 2.6734\n",
            "Epoch 48/50\n",
            "219/219 [==============================] - 0s 2ms/step - loss: 0.5089 - mean_squared_error: 0.5089 - val_loss: 2.8502 - val_mean_squared_error: 2.8502\n",
            "Epoch 49/50\n",
            "219/219 [==============================] - 0s 2ms/step - loss: 0.5495 - mean_squared_error: 0.5495 - val_loss: 1.8048 - val_mean_squared_error: 1.8048\n",
            "Epoch 50/50\n",
            "219/219 [==============================] - 1s 2ms/step - loss: 0.4776 - mean_squared_error: 0.4776 - val_loss: 2.7186 - val_mean_squared_error: 2.7186\n"
          ]
        }
      ]
    },
    {
      "cell_type": "markdown",
      "source": [
        "Compute Model Predictions on test data"
      ],
      "metadata": {
        "id": "M9rBfitSENFz"
      }
    },
    {
      "cell_type": "code",
      "source": [
        "start = time.time()\n",
        "predictions = model.predict(x_test)\n",
        "end = time.time()\n",
        "print(f\"Runtime of the model on test set is {end - start}\")"
      ],
      "metadata": {
        "id": "w380qmcmEMVA",
        "colab": {
          "base_uri": "https://localhost:8080/"
        },
        "outputId": "05f46785-d1b1-4950-aed8-120c4d58cb46"
      },
      "execution_count": null,
      "outputs": [
        {
          "output_type": "stream",
          "name": "stdout",
          "text": [
            "Runtime of the model on test set is 0.1248617172241211\n"
          ]
        }
      ]
    },
    {
      "cell_type": "markdown",
      "source": [
        "# Optional : Model Performance plotting"
      ],
      "metadata": {
        "id": "qeRtGouM7cLo"
      }
    },
    {
      "cell_type": "code",
      "source": [
        "def plot_performance(history):\n",
        "  plt.plot(history.history['mean_squared_error'])\n",
        "  plt.plot(history.history['val_mean_squared_error'])\n",
        "  plt.ylabel('MAE')\n",
        "  plt.xlabel(\"epoch\")\n",
        "  plt.legend(['train', 'test'])\n",
        "  plt.savefig(\"NN_train.png\")\n",
        "  plt.show();"
      ],
      "metadata": {
        "id": "h6ZDmF9S7QCI"
      },
      "execution_count": null,
      "outputs": []
    },
    {
      "cell_type": "code",
      "source": [
        "plot_performance(history);"
      ],
      "metadata": {
        "colab": {
          "base_uri": "https://localhost:8080/",
          "height": 280
        },
        "id": "_4fuHycB7oN3",
        "outputId": "806e7fb7-e407-471a-b02a-785f6a6c0945"
      },
      "execution_count": null,
      "outputs": [
        {
          "output_type": "display_data",
          "data": {
            "image/png": "[encoded data removed]",
            "text/plain": [
              "<Figure size 432x288 with 1 Axes>"
            ]
          },
          "metadata": {
            "needs_background": "light"
          }
        }
      ]
    },
    {
      "cell_type": "code",
      "source": [
        "print(\"maximum train option price :\" , y_train.max())\n",
        "print(\"mean train option price : \" , np.mean(y_train))"
      ],
      "metadata": {
        "colab": {
          "base_uri": "https://localhost:8080/"
        },
        "id": "raW-Lzt790ex",
        "outputId": "0b6ef63e-efef-46e1-8512-02ec317d4bc7"
      },
      "execution_count": null,
      "outputs": [
        {
          "output_type": "stream",
          "name": "stdout",
          "text": [
            "maximum train option price : 22.31332673094635\n",
            "mean train option price :  3.233704944639957\n"
          ]
        }
      ]
    },
    {
      "cell_type": "markdown",
      "source": [
        "We notice that compared to the values of the dataset the MEA for the training data is pretty low for this simple regression model ."
      ],
      "metadata": {
        "id": "QwUCMp_t-R19"
      }
    },
    {
      "cell_type": "code",
      "source": [
        "#Plot test labels distribution\n",
        "sns.displot(y_test)"
      ],
      "metadata": {
        "colab": {
          "base_uri": "https://localhost:8080/",
          "height": 388
        },
        "id": "a3GnVnUu7tob",
        "outputId": "dc1b5d34-6017-47aa-cefe-2426e9080c9a"
      },
      "execution_count": null,
      "outputs": [
        {
          "output_type": "execute_result",
          "data": {
            "text/plain": [
              "<seaborn.axisgrid.FacetGrid at 0x7fb965e26850>"
            ]
          },
          "metadata": {},
          "execution_count": 33
        },
        {
          "output_type": "display_data",
          "data": {
            "image/png": "[encoded data removed]",
            "text/plain": [
              "<Figure size 360x360 with 1 Axes>"
            ]
          },
          "metadata": {
            "needs_background": "light"
          }
        }
      ]
    },
    {
      "cell_type": "code",
      "source": [
        "#Plot prediction distribution\n",
        "sns.displot(predictions)"
      ],
      "metadata": {
        "colab": {
          "base_uri": "https://localhost:8080/",
          "height": 388
        },
        "id": "soKheaScEZj4",
        "outputId": "fde9a769-c779-42a0-810a-8a5b68f3cf1b"
      },
      "execution_count": null,
      "outputs": [
        {
          "output_type": "execute_result",
          "data": {
            "text/plain": [
              "<seaborn.axisgrid.FacetGrid at 0x7fb966e1a750>"
            ]
          },
          "metadata": {},
          "execution_count": 34
        },
        {
          "output_type": "display_data",
          "data": {
            "image/png": "[encoded data removed]",
            "text/plain": [
              "<Figure size 402.25x360 with 1 Axes>"
            ]
          },
          "metadata": {
            "needs_background": "light"
          }
        }
      ]
    },
    {
      "cell_type": "markdown",
      "source": [
        "# Compare prices to a traditional numerical solver such as Monte-Carlo, Finite Difference or any other methodology you may deem applicable."
      ],
      "metadata": {
        "id": "rlkmCGfa-taK"
      }
    },
    {
      "cell_type": "markdown",
      "source": [
        "In this part we will be using Monte Carlo for computing Basket option price.\n",
        "we will be working on testing set . So we will load the test set that we saved earlier."
      ],
      "metadata": {
        "id": "rCw9dFL4-z2P"
      }
    },
    {
      "cell_type": "markdown",
      "source": [
        "**Methodology:**\n",
        "\n",
        "For making using of the MC simulations I used a function defined in this notebook  that uses MC for a call option : https://github.com/shrentseng/Numerical-methods-for-option-pricing/blob/main/Monte%20Carlo%20simulation%20option%20pricing.ipynb \n",
        "But as I am dealing with a Basket so when computing the payoff I need to pay attention to the weights."
      ],
      "metadata": {
        "id": "BVhRdpHHCUAw"
      }
    },
    {
      "cell_type": "code",
      "source": [
        "import os\n",
        "if os.path.exists(\"test.csv\"):\n",
        "  print(\"Downloading test csv file .......\") \n",
        "  test = pd.read_csv(\"test.csv\")"
      ],
      "metadata": {
        "colab": {
          "base_uri": "https://localhost:8080/"
        },
        "id": "KhMlkUtl7o0J",
        "outputId": "84fc748b-b7f3-4dbc-d11a-badf0aa542da"
      },
      "execution_count": null,
      "outputs": [
        {
          "output_type": "stream",
          "name": "stdout",
          "text": [
            "Downloading test csv file .......\n"
          ]
        }
      ]
    },
    {
      "cell_type": "code",
      "source": [
        "test.head()"
      ],
      "metadata": {
        "colab": {
          "base_uri": "https://localhost:8080/",
          "height": 206
        },
        "id": "qaQ0Cp7KCAa7",
        "outputId": "5b31ff8e-e030-4841-bc1b-dde4043a1cfb"
      },
      "execution_count": null,
      "outputs": [
        {
          "output_type": "execute_result",
          "data": {
            "text/html": [
              "\n",
              "  <div id=\"df-38f92dd9-a338-4ca8-a7f5-74c685014783\">\n",
              "    <div class=\"colab-df-container\">\n",
              "      <div>\n",
              "<style scoped>\n",
              "    .dataframe tbody tr th:only-of-type {\n",
              "        vertical-align: middle;\n",
              "    }\n",
              "\n",
              "    .dataframe tbody tr th {\n",
              "        vertical-align: top;\n",
              "    }\n",
              "\n",
              "    .dataframe thead th {\n",
              "        text-align: right;\n",
              "    }\n",
              "</style>\n",
              "<table border=\"1\" class=\"dataframe\">\n",
              "  <thead>\n",
              "    <tr style=\"text-align: right;\">\n",
              "      <th></th>\n",
              "      <th>S/K</th>\n",
              "      <th>Maturity</th>\n",
              "      <th>Volatility</th>\n",
              "      <th>Rate</th>\n",
              "      <th>Labels</th>\n",
              "      <th>Prices</th>\n",
              "      <th>Strikes</th>\n",
              "      <th>Weight_0</th>\n",
              "      <th>Weight_1</th>\n",
              "      <th>Weight_2</th>\n",
              "    </tr>\n",
              "  </thead>\n",
              "  <tbody>\n",
              "    <tr>\n",
              "      <th>0</th>\n",
              "      <td>0.500403</td>\n",
              "      <td>1.049777</td>\n",
              "      <td>0.307407</td>\n",
              "      <td>0.045450</td>\n",
              "      <td>0.325331</td>\n",
              "      <td>100.947789</td>\n",
              "      <td>201.732918</td>\n",
              "      <td>0.247177</td>\n",
              "      <td>0.429608</td>\n",
              "      <td>0.323215</td>\n",
              "    </tr>\n",
              "    <tr>\n",
              "      <th>1</th>\n",
              "      <td>0.505162</td>\n",
              "      <td>0.931086</td>\n",
              "      <td>0.229150</td>\n",
              "      <td>0.051873</td>\n",
              "      <td>0.018109</td>\n",
              "      <td>99.815417</td>\n",
              "      <td>197.591007</td>\n",
              "      <td>0.404801</td>\n",
              "      <td>0.579820</td>\n",
              "      <td>0.015379</td>\n",
              "    </tr>\n",
              "    <tr>\n",
              "      <th>2</th>\n",
              "      <td>0.503914</td>\n",
              "      <td>0.633329</td>\n",
              "      <td>0.821468</td>\n",
              "      <td>0.050701</td>\n",
              "      <td>7.309358</td>\n",
              "      <td>99.989959</td>\n",
              "      <td>198.426579</td>\n",
              "      <td>0.376317</td>\n",
              "      <td>0.388713</td>\n",
              "      <td>0.234969</td>\n",
              "    </tr>\n",
              "    <tr>\n",
              "      <th>3</th>\n",
              "      <td>0.508093</td>\n",
              "      <td>0.229480</td>\n",
              "      <td>0.896514</td>\n",
              "      <td>0.088480</td>\n",
              "      <td>1.620571</td>\n",
              "      <td>100.829961</td>\n",
              "      <td>198.447801</td>\n",
              "      <td>0.483914</td>\n",
              "      <td>0.063798</td>\n",
              "      <td>0.452288</td>\n",
              "    </tr>\n",
              "    <tr>\n",
              "      <th>4</th>\n",
              "      <td>0.495808</td>\n",
              "      <td>0.365142</td>\n",
              "      <td>0.472774</td>\n",
              "      <td>0.033222</td>\n",
              "      <td>0.103645</td>\n",
              "      <td>99.172107</td>\n",
              "      <td>200.021116</td>\n",
              "      <td>0.173385</td>\n",
              "      <td>0.175158</td>\n",
              "      <td>0.651458</td>\n",
              "    </tr>\n",
              "  </tbody>\n",
              "</table>\n",
              "</div>\n",
              "      <button class=\"colab-df-convert\" onclick=\"convertToInteractive('df-38f92dd9-a338-4ca8-a7f5-74c685014783')\"\n",
              "              title=\"Convert this dataframe to an interactive table.\"\n",
              "              style=\"display:none;\">\n",
              "        \n",
              "  <svg xmlns=\"http://www.w3.org/2000/svg\" height=\"24px\"viewBox=\"0 0 24 24\"\n",
              "       width=\"24px\">\n",
              "    <path d=\"M0 0h24v24H0V0z\" fill=\"none\"/>\n",
              "    <path d=\"M18.56 5.44l.94 2.06.94-2.06 2.06-.94-2.06-.94-.94-2.06-.94 2.06-2.06.94zm-11 1L8.5 8.5l.94-2.06 2.06-.94-2.06-.94L8.5 2.5l-.94 2.06-2.06.94zm10 10l.94 2.06.94-2.06 2.06-.94-2.06-.94-.94-2.06-.94 2.06-2.06.94z\"/><path d=\"M17.41 7.96l-1.37-1.37c-.4-.4-.92-.59-1.43-.59-.52 0-1.04.2-1.43.59L10.3 9.45l-7.72 7.72c-.78.78-.78 2.05 0 2.83L4 21.41c.39.39.9.59 1.41.59.51 0 1.02-.2 1.41-.59l7.78-7.78 2.81-2.81c.8-.78.8-2.07 0-2.86zM5.41 20L4 18.59l7.72-7.72 1.47 1.35L5.41 20z\"/>\n",
              "  </svg>\n",
              "      </button>\n",
              "      \n",
              "  <style>\n",
              "    .colab-df-container {\n",
              "      display:flex;\n",
              "      flex-wrap:wrap;\n",
              "      gap: 12px;\n",
              "    }\n",
              "\n",
              "    .colab-df-convert {\n",
              "      background-color: #E8F0FE;\n",
              "      border: none;\n",
              "      border-radius: 50%;\n",
              "      cursor: pointer;\n",
              "      display: none;\n",
              "      fill: #1967D2;\n",
              "      height: 32px;\n",
              "      padding: 0 0 0 0;\n",
              "      width: 32px;\n",
              "    }\n",
              "\n",
              "    .colab-df-convert:hover {\n",
              "      background-color: #E2EBFA;\n",
              "      box-shadow: 0px 1px 2px rgba(60, 64, 67, 0.3), 0px 1px 3px 1px rgba(60, 64, 67, 0.15);\n",
              "      fill: #174EA6;\n",
              "    }\n",
              "\n",
              "    [theme=dark] .colab-df-convert {\n",
              "      background-color: #3B4455;\n",
              "      fill: #D2E3FC;\n",
              "    }\n",
              "\n",
              "    [theme=dark] .colab-df-convert:hover {\n",
              "      background-color: #434B5C;\n",
              "      box-shadow: 0px 1px 3px 1px rgba(0, 0, 0, 0.15);\n",
              "      filter: drop-shadow(0px 1px 2px rgba(0, 0, 0, 0.3));\n",
              "      fill: #FFFFFF;\n",
              "    }\n",
              "  </style>\n",
              "\n",
              "      <script>\n",
              "        const buttonEl =\n",
              "          document.querySelector('#df-38f92dd9-a338-4ca8-a7f5-74c685014783 button.colab-df-convert');\n",
              "        buttonEl.style.display =\n",
              "          google.colab.kernel.accessAllowed ? 'block' : 'none';\n",
              "\n",
              "        async function convertToInteractive(key) {\n",
              "          const element = document.querySelector('#df-38f92dd9-a338-4ca8-a7f5-74c685014783');\n",
              "          const dataTable =\n",
              "            await google.colab.kernel.invokeFunction('convertToInteractive',\n",
              "                                                     [key], {});\n",
              "          if (!dataTable) return;\n",
              "\n",
              "          const docLinkHtml = 'Like what you see? Visit the ' +\n",
              "            '<a target=\"_blank\" href=https://colab.research.google.com/notebooks/data_table.ipynb>data table notebook</a>'\n",
              "            + ' to learn more about interactive tables.';\n",
              "          element.innerHTML = '';\n",
              "          dataTable['output_type'] = 'display_data';\n",
              "          await google.colab.output.renderOutput(dataTable, element);\n",
              "          const docLink = document.createElement('div');\n",
              "          docLink.innerHTML = docLinkHtml;\n",
              "          element.appendChild(docLink);\n",
              "        }\n",
              "      </script>\n",
              "    </div>\n",
              "  </div>\n",
              "  "
            ],
            "text/plain": [
              "        S/K  Maturity  Volatility  ...  Weight_0  Weight_1  Weight_2\n",
              "0  0.500403  1.049777    0.307407  ...  0.247177  0.429608  0.323215\n",
              "1  0.505162  0.931086    0.229150  ...  0.404801  0.579820  0.015379\n",
              "2  0.503914  0.633329    0.821468  ...  0.376317  0.388713  0.234969\n",
              "3  0.508093  0.229480    0.896514  ...  0.483914  0.063798  0.452288\n",
              "4  0.495808  0.365142    0.472774  ...  0.173385  0.175158  0.651458\n",
              "\n",
              "[5 rows x 10 columns]"
            ]
          },
          "metadata": {},
          "execution_count": 31
        }
      ]
    },
    {
      "cell_type": "code",
      "source": [
        "#Define a Monte carlo MC price empty list \n",
        "%time \n",
        "start = time.time()\n",
        "mc_prices = []\n",
        "for i in range(test.shape[0]):\n",
        "    basket = BasketOption(\n",
        "        test.iloc[i,7:].to_numpy(),\n",
        "        test.iloc[i].Prices,\n",
        "        test.iloc[i].Volatility,\n",
        "        CORR,\n",
        "        test.iloc[i].Strikes,\n",
        "        test.iloc[i].Maturity,\n",
        "        test.iloc[i].Rate\n",
        "    )\n",
        "    mc_prices.append(basket.get_mc())\n",
        "end = time.time()\n",
        "print(f\"Runtime of MC is : .... {end - start}\")    "
      ],
      "metadata": {
        "colab": {
          "base_uri": "https://localhost:8080/"
        },
        "id": "LMa3nF_TCJ25",
        "outputId": "24bb2fae-10c5-4141-eb7f-3be0f38f1a08"
      },
      "execution_count": null,
      "outputs": [
        {
          "output_type": "stream",
          "name": "stdout",
          "text": [
            "CPU times: user 3 µs, sys: 0 ns, total: 3 µs\n",
            "Wall time: 6.2 µs\n",
            "Runtime of MC is : .... 9.853245735168457\n"
          ]
        }
      ]
    },
    {
      "cell_type": "markdown",
      "source": [
        "# Compare to the case of 1 asset\n",
        "\n",
        "In the case of 1 asset the correlation matrix takes one value :\n",
        "\n",
        "So we will have same work as before with :\n",
        "\n",
        "- corr = np.array([[1,]]) \n",
        "- n_assets = 1\n"
      ],
      "metadata": {
        "id": "emCHzNIxGe1U"
      }
    },
    {
      "cell_type": "code",
      "source": [
        "len(test)"
      ],
      "metadata": {
        "colab": {
          "base_uri": "https://localhost:8080/"
        },
        "id": "8A5zBHuLLgAo",
        "outputId": "24f26199-a7fe-4a7c-e2dd-745b68f881fe"
      },
      "execution_count": null,
      "outputs": [
        {
          "output_type": "execute_result",
          "data": {
            "text/plain": [
              "3000"
            ]
          },
          "metadata": {},
          "execution_count": 42
        }
      ]
    },
    {
      "cell_type": "markdown",
      "source": [
        "Summary :\n",
        "\n",
        "The Main Goal of the client is explore novel methodologies for accelerating the pricing of exotic derivatives. The Client cares a lot about the time that an algorithm consumes to compute Option Price \n",
        "\n",
        "From  our experiment : with 10 000 data points and with 3000 data points on the test set the Neural network model needs  0.12 seconds to run and the MC algorithm needs 9.85 seconds to run.\n",
        "\n"
      ],
      "metadata": {
        "id": "Fck3OrmSGzch"
      }
    },
    {
      "cell_type": "code",
      "source": [
        ""
      ],
      "metadata": {
        "id": "Ch8Up4LMEjdi"
      },
      "execution_count": null,
      "outputs": []
    }
  ]
}